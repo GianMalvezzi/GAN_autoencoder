{
  "nbformat": 4,
  "nbformat_minor": 0,
  "metadata": {
    "colab": {
      "name": "GAN.ipynb",
      "provenance": []
    },
    "kernelspec": {
      "name": "python3",
      "display_name": "Python 3"
    },
    "language_info": {
      "name": "python"
    },
    "accelerator": "GPU",
    "gpuClass": "standard"
  },
  "cells": [
    {
      "cell_type": "markdown",
      "source": [
        "Gian Luca Malvezzi Petini"
      ],
      "metadata": {
        "id": "u54-Tqo7V5P-"
      }
    },
    {
      "cell_type": "code",
      "source": [
        "import numpy as np\n",
        "import pandas as pd\n",
        "import tensorflow as tf\n",
        "import keras\n",
        "from keras.layers import Input, LeakyReLU, Conv2D, Conv2DTranspose, Dense, Reshape, Flatten, Dropout\n",
        "from tensorflow.keras.optimizers import Adam\n",
        "from keras import Model"
      ],
      "metadata": {
        "id": "tvJOPRUXmVRu"
      },
      "execution_count": null,
      "outputs": []
    },
    {
      "cell_type": "code",
      "source": [
        "dataset = tf.keras.preprocessing.image_dataset_from_directory(\n",
        "    \"/content/drive/MyDrive/GANS/CelebA\", label_mode=None, image_size=(32, 32), batch_size=64\n",
        ")\n",
        "dataset = dataset.map(lambda x: x / 255.0)"
      ],
      "metadata": {
        "colab": {
          "base_uri": "https://localhost:8080/"
        },
        "id": "WFyiDtsomVny",
        "outputId": "0d0c6e89-83eb-4812-b71f-73fca559e40c"
      },
      "execution_count": null,
      "outputs": [
        {
          "output_type": "stream",
          "name": "stdout",
          "text": [
            "Found 30000 files belonging to 1 classes.\n"
          ]
        }
      ]
    },
    {
      "cell_type": "code",
      "source": [
        "discriminator = tf.keras.Sequential(\n",
        "    [\n",
        "        Input(shape=(32, 32, 3)),\n",
        "        Conv2D(64, kernel_size=4, strides=2, padding=\"same\"),\n",
        "        LeakyReLU(alpha=0.2),\n",
        "        Conv2D(128, kernel_size=4, strides=2, padding=\"same\"),\n",
        "        LeakyReLU(alpha=0.2),\n",
        "        Conv2D(128, kernel_size=4, strides=2, padding=\"same\"),\n",
        "        LeakyReLU(alpha=0.2),\n",
        "        Flatten(),\n",
        "        Dropout(0.2),\n",
        "        Dense(1, activation=\"sigmoid\"),\n",
        "    ],\n",
        "    name=\"discriminator\",\n",
        ")\n",
        "discriminator.summary()"
      ],
      "metadata": {
        "colab": {
          "base_uri": "https://localhost:8080/"
        },
        "id": "2TlbV7fmnv3u",
        "outputId": "85bdabb5-8206-4cdc-dd9e-3a198a8d287d"
      },
      "execution_count": null,
      "outputs": [
        {
          "output_type": "stream",
          "name": "stdout",
          "text": [
            "Model: \"discriminator\"\n",
            "_________________________________________________________________\n",
            " Layer (type)                Output Shape              Param #   \n",
            "=================================================================\n",
            " conv2d_24 (Conv2D)          (None, 16, 16, 64)        3136      \n",
            "                                                                 \n",
            " leaky_re_lu_44 (LeakyReLU)  (None, 16, 16, 64)        0         \n",
            "                                                                 \n",
            " conv2d_25 (Conv2D)          (None, 8, 8, 128)         131200    \n",
            "                                                                 \n",
            " leaky_re_lu_45 (LeakyReLU)  (None, 8, 8, 128)         0         \n",
            "                                                                 \n",
            " conv2d_26 (Conv2D)          (None, 4, 4, 128)         262272    \n",
            "                                                                 \n",
            " leaky_re_lu_46 (LeakyReLU)  (None, 4, 4, 128)         0         \n",
            "                                                                 \n",
            " flatten_3 (Flatten)         (None, 2048)              0         \n",
            "                                                                 \n",
            " dropout_3 (Dropout)         (None, 2048)              0         \n",
            "                                                                 \n",
            " dense_13 (Dense)            (None, 1)                 2049      \n",
            "                                                                 \n",
            "=================================================================\n",
            "Total params: 398,657\n",
            "Trainable params: 398,657\n",
            "Non-trainable params: 0\n",
            "_________________________________________________________________\n"
          ]
        }
      ]
    },
    {
      "cell_type": "code",
      "source": [
        "latent_dim = 64\n",
        "\n",
        "generator = tf.keras.Sequential(\n",
        "    [\n",
        "        Input(shape=(latent_dim,)),\n",
        "        Dense(8 * 8 * 128),\n",
        "        Reshape((8, 8, 128)),\n",
        "        Conv2DTranspose(128, kernel_size=4, strides=2, padding=\"same\"),\n",
        "        LeakyReLU(alpha=0.2),\n",
        "        Conv2DTranspose(256, kernel_size=4, strides=2, padding=\"same\"),\n",
        "        LeakyReLU(alpha=0.2),\n",
        "        Conv2D(3, kernel_size=5, padding=\"same\", activation=\"sigmoid\"),\n",
        "    ],\n",
        "    name=\"generator\",\n",
        ")\n",
        "generator.summary()"
      ],
      "metadata": {
        "colab": {
          "base_uri": "https://localhost:8080/"
        },
        "id": "RApSpuWcpNgQ",
        "outputId": "089ad898-a563-448a-df32-922974fb4a8a"
      },
      "execution_count": null,
      "outputs": [
        {
          "output_type": "stream",
          "name": "stdout",
          "text": [
            "Model: \"generator\"\n",
            "_________________________________________________________________\n",
            " Layer (type)                Output Shape              Param #   \n",
            "=================================================================\n",
            " dense_12 (Dense)            (None, 8192)              532480    \n",
            "                                                                 \n",
            " reshape_9 (Reshape)         (None, 8, 8, 128)         0         \n",
            "                                                                 \n",
            " conv2d_transpose_27 (Conv2D  (None, 16, 16, 128)      262272    \n",
            " Transpose)                                                      \n",
            "                                                                 \n",
            " leaky_re_lu_42 (LeakyReLU)  (None, 16, 16, 128)       0         \n",
            "                                                                 \n",
            " conv2d_transpose_28 (Conv2D  (None, 32, 32, 256)      524544    \n",
            " Transpose)                                                      \n",
            "                                                                 \n",
            " leaky_re_lu_43 (LeakyReLU)  (None, 32, 32, 256)       0         \n",
            "                                                                 \n",
            " conv2d_23 (Conv2D)          (None, 32, 32, 3)         19203     \n",
            "                                                                 \n",
            "=================================================================\n",
            "Total params: 1,338,499\n",
            "Trainable params: 1,338,499\n",
            "Non-trainable params: 0\n",
            "_________________________________________________________________\n"
          ]
        }
      ]
    },
    {
      "cell_type": "code",
      "source": [
        "class GAN(Model):\n",
        "    def __init__(self, discriminator, generator, latent_dim):\n",
        "        super(GAN, self).__init__()\n",
        "        self.discriminator = discriminator\n",
        "        self.generator = generator\n",
        "        self.latent_dim = latent_dim\n",
        "\n",
        "    def compile(self, d_optimizer, g_optimizer, loss_fn):\n",
        "        super(GAN, self).compile()\n",
        "        self.d_optimizer = d_optimizer\n",
        "        self.g_optimizer = g_optimizer\n",
        "        self.loss_fn = loss_fn\n",
        "        self.d_loss_metric = keras.metrics.Mean(name=\"d_loss\")\n",
        "        self.g_loss_metric = keras.metrics.Mean(name=\"g_loss\")\n",
        "\n",
        "    @property\n",
        "    def metrics(self):\n",
        "        return [self.d_loss_metric, self.g_loss_metric]\n",
        "\n",
        "    def train_step(self, real_images):\n",
        "        batch_size = tf.shape(real_images)[0]\n",
        "        random_latent_vectors = tf.random.normal(shape=(batch_size, self.latent_dim))\n",
        "\n",
        "        generated_images = self.generator(random_latent_vectors)\n",
        "\n",
        "        combined_images = tf.concat([generated_images, real_images], axis=0)\n",
        "\n",
        "        labels = tf.concat(\n",
        "            [tf.ones((batch_size, 1)), tf.zeros((batch_size, 1))], axis=0\n",
        "        )\n",
        "        labels += 0.05 * tf.random.uniform(tf.shape(labels))\n",
        "\n",
        "        with tf.GradientTape() as tape:\n",
        "            predictions = self.discriminator(combined_images)\n",
        "            d_loss = self.loss_fn(labels, predictions)\n",
        "        grads = tape.gradient(d_loss, self.discriminator.trainable_weights)\n",
        "        self.d_optimizer.apply_gradients(\n",
        "            zip(grads, self.discriminator.trainable_weights)\n",
        "        )\n",
        "\n",
        "        random_latent_vectors = tf.random.normal(shape=(batch_size, self.latent_dim))\n",
        "\n",
        "        misleading_labels = tf.zeros((batch_size, 1))\n",
        "\n",
        "        with tf.GradientTape() as tape:\n",
        "            predictions = self.discriminator(self.generator(random_latent_vectors))\n",
        "            g_loss = self.loss_fn(misleading_labels, predictions)\n",
        "        grads = tape.gradient(g_loss, self.generator.trainable_weights)\n",
        "        self.g_optimizer.apply_gradients(zip(grads, self.generator.trainable_weights))\n",
        "\n",
        "        self.d_loss_metric.update_state(d_loss)\n",
        "        self.g_loss_metric.update_state(g_loss)\n",
        "        return {\n",
        "            \"d_loss\": self.d_loss_metric.result(),\n",
        "            \"g_loss\": self.g_loss_metric.result(),\n",
        "        }"
      ],
      "metadata": {
        "id": "FmVM4zD-vBQd"
      },
      "execution_count": null,
      "outputs": []
    },
    {
      "cell_type": "code",
      "source": [
        "class GANMonitor(keras.callbacks.Callback):\n",
        "    def __init__(self, num_img=3, latent_dim=128):\n",
        "        self.num_img = num_img\n",
        "        self.latent_dim = latent_dim\n",
        "\n",
        "    def on_epoch_end(self, epoch, logs=None):\n",
        "        random_latent_vectors = tf.random.normal(shape=(self.num_img, self.latent_dim))\n",
        "        generated_images = self.model.generator(random_latent_vectors)\n",
        "        generated_images *= 255\n",
        "        generated_images.numpy()\n",
        "        for i in range(self.num_img):\n",
        "            img = keras.preprocessing.image.array_to_img(generated_images[i])\n",
        "            img.save(\"generated_img_%03d_%d.png\" % (epoch, i))"
      ],
      "metadata": {
        "id": "fX4b-vcTxtmG"
      },
      "execution_count": null,
      "outputs": []
    },
    {
      "cell_type": "code",
      "source": [
        "epochs = 50\n",
        "\n",
        "gan = GAN(discriminator=discriminator, generator=generator, latent_dim=latent_dim)\n",
        "gan.compile(\n",
        "    d_optimizer=Adam(learning_rate=0.0001),\n",
        "    g_optimizer=Adam(learning_rate=0.0001),\n",
        "    loss_fn=keras.losses.BinaryCrossentropy(),\n",
        ")\n",
        "\n",
        "gan.fit(\n",
        "    dataset, epochs=epochs, callbacks=[GANMonitor(num_img=10, latent_dim=latent_dim)]\n",
        ")"
      ],
      "metadata": {
        "colab": {
          "base_uri": "https://localhost:8080/"
        },
        "id": "DjbleVfPxw31",
        "outputId": "6b0decbd-5e05-47ac-cd4f-2a79ccf921a6"
      },
      "execution_count": null,
      "outputs": [
        {
          "output_type": "stream",
          "name": "stdout",
          "text": [
            "Epoch 1/50\n",
            "469/469 [==============================] - 6638s 14s/step - d_loss: 0.4215 - g_loss: 1.5968\n",
            "Epoch 2/50\n",
            "469/469 [==============================] - 38s 81ms/step - d_loss: 0.5494 - g_loss: 1.4334\n",
            "Epoch 3/50\n",
            "469/469 [==============================] - 39s 81ms/step - d_loss: 0.5556 - g_loss: 1.2595\n",
            "Epoch 4/50\n",
            "469/469 [==============================] - 39s 81ms/step - d_loss: 0.5969 - g_loss: 1.1220\n",
            "Epoch 5/50\n",
            "469/469 [==============================] - 39s 81ms/step - d_loss: 0.5528 - g_loss: 1.5548\n",
            "Epoch 6/50\n",
            "469/469 [==============================] - 40s 84ms/step - d_loss: 0.5824 - g_loss: 1.1160\n",
            "Epoch 7/50\n",
            "469/469 [==============================] - 39s 81ms/step - d_loss: 0.6039 - g_loss: 1.0826\n",
            "Epoch 8/50\n",
            "469/469 [==============================] - 40s 84ms/step - d_loss: 0.6113 - g_loss: 1.1563\n",
            "Epoch 9/50\n",
            "469/469 [==============================] - 40s 84ms/step - d_loss: 0.5960 - g_loss: 1.0748\n",
            "Epoch 10/50\n",
            "469/469 [==============================] - 39s 83ms/step - d_loss: 0.6347 - g_loss: 1.0394\n",
            "Epoch 11/50\n",
            "469/469 [==============================] - 40s 85ms/step - d_loss: 0.6354 - g_loss: 1.2620\n",
            "Epoch 12/50\n",
            "469/469 [==============================] - 39s 83ms/step - d_loss: 0.6340 - g_loss: 1.4583\n",
            "Epoch 13/50\n",
            "469/469 [==============================] - 39s 83ms/step - d_loss: 0.6255 - g_loss: 1.0483\n",
            "Epoch 14/50\n",
            "469/469 [==============================] - 39s 83ms/step - d_loss: 0.6490 - g_loss: 0.9610\n",
            "Epoch 15/50\n",
            "469/469 [==============================] - 39s 83ms/step - d_loss: 0.6580 - g_loss: 0.9589\n",
            "Epoch 16/50\n",
            "469/469 [==============================] - 40s 85ms/step - d_loss: 0.6540 - g_loss: 0.9469\n",
            "Epoch 17/50\n",
            "469/469 [==============================] - 40s 83ms/step - d_loss: 0.6384 - g_loss: 0.9902\n",
            "Epoch 18/50\n",
            "469/469 [==============================] - 40s 85ms/step - d_loss: 0.6476 - g_loss: 0.9676\n",
            "Epoch 19/50\n",
            "469/469 [==============================] - 40s 84ms/step - d_loss: 0.6572 - g_loss: 0.9538\n",
            "Epoch 20/50\n",
            "469/469 [==============================] - 40s 84ms/step - d_loss: 0.6640 - g_loss: 0.9802\n",
            "Epoch 21/50\n",
            "469/469 [==============================] - 39s 83ms/step - d_loss: 0.6495 - g_loss: 0.9214\n",
            "Epoch 22/50\n",
            "469/469 [==============================] - 41s 85ms/step - d_loss: 0.6564 - g_loss: 0.9279\n",
            "Epoch 23/50\n",
            "469/469 [==============================] - 39s 83ms/step - d_loss: 0.6720 - g_loss: 1.0566\n",
            "Epoch 24/50\n",
            "469/469 [==============================] - 40s 84ms/step - d_loss: 0.6663 - g_loss: 0.9149\n",
            "Epoch 25/50\n",
            "469/469 [==============================] - 39s 83ms/step - d_loss: 0.6606 - g_loss: 0.8878\n",
            "Epoch 26/50\n",
            "469/469 [==============================] - 41s 87ms/step - d_loss: 0.6551 - g_loss: 0.9436\n",
            "Epoch 27/50\n",
            "469/469 [==============================] - 41s 86ms/step - d_loss: 0.6745 - g_loss: 0.9448\n",
            "Epoch 28/50\n",
            "469/469 [==============================] - 40s 83ms/step - d_loss: 0.6605 - g_loss: 0.9718\n",
            "Epoch 29/50\n",
            "469/469 [==============================] - 39s 82ms/step - d_loss: 0.6686 - g_loss: 0.8917\n",
            "Epoch 30/50\n",
            "469/469 [==============================] - 40s 85ms/step - d_loss: 0.6585 - g_loss: 0.9082\n",
            "Epoch 31/50\n",
            "469/469 [==============================] - 40s 83ms/step - d_loss: 0.6593 - g_loss: 0.8705\n",
            "Epoch 32/50\n",
            "469/469 [==============================] - 40s 85ms/step - d_loss: 0.6753 - g_loss: 0.8724\n",
            "Epoch 33/50\n",
            "469/469 [==============================] - 39s 82ms/step - d_loss: 0.6861 - g_loss: 1.0139\n",
            "Epoch 34/50\n",
            "469/469 [==============================] - 39s 83ms/step - d_loss: 0.6434 - g_loss: 0.9854\n",
            "Epoch 35/50\n",
            "469/469 [==============================] - 346s 739ms/step - d_loss: 0.6703 - g_loss: 0.9959\n",
            "Epoch 36/50\n",
            "469/469 [==============================] - 39s 82ms/step - d_loss: 0.6681 - g_loss: 0.9111\n",
            "Epoch 37/50\n",
            "469/469 [==============================] - 39s 82ms/step - d_loss: 0.6788 - g_loss: 0.8808\n",
            "Epoch 38/50\n",
            "469/469 [==============================] - 39s 82ms/step - d_loss: 0.6671 - g_loss: 0.8642\n",
            "Epoch 39/50\n",
            "469/469 [==============================] - 40s 84ms/step - d_loss: 0.6636 - g_loss: 0.9440\n",
            "Epoch 40/50\n",
            "469/469 [==============================] - 39s 83ms/step - d_loss: 0.6741 - g_loss: 0.9702\n",
            "Epoch 41/50\n",
            "469/469 [==============================] - 39s 82ms/step - d_loss: 0.6877 - g_loss: 0.9027\n",
            "Epoch 42/50\n",
            "469/469 [==============================] - 39s 82ms/step - d_loss: 0.6627 - g_loss: 0.8605\n",
            "Epoch 43/50\n",
            "469/469 [==============================] - 39s 82ms/step - d_loss: 0.6761 - g_loss: 0.8531\n",
            "Epoch 44/50\n",
            "469/469 [==============================] - 39s 82ms/step - d_loss: 0.6868 - g_loss: 0.9502\n",
            "Epoch 45/50\n",
            "469/469 [==============================] - 39s 82ms/step - d_loss: 0.6730 - g_loss: 0.8576\n",
            "Epoch 46/50\n",
            "469/469 [==============================] - 40s 83ms/step - d_loss: 0.6723 - g_loss: 0.8472\n",
            "Epoch 47/50\n",
            "469/469 [==============================] - 39s 83ms/step - d_loss: 0.6975 - g_loss: 0.8667\n",
            "Epoch 48/50\n",
            "469/469 [==============================] - 39s 82ms/step - d_loss: 0.7061 - g_loss: 0.9786\n",
            "Epoch 49/50\n",
            "469/469 [==============================] - 39s 82ms/step - d_loss: 0.6690 - g_loss: 0.9022\n",
            "Epoch 50/50\n",
            "469/469 [==============================] - 40s 84ms/step - d_loss: 0.6795 - g_loss: 0.9180\n"
          ]
        },
        {
          "output_type": "execute_result",
          "data": {
            "text/plain": [
              "<keras.callbacks.History at 0x7f018a499690>"
            ]
          },
          "metadata": {},
          "execution_count": 36
        }
      ]
    }
  ]
}